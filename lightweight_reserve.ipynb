{
 "cells": [
  {
   "cell_type": "code",
   "execution_count": 49,
   "metadata": {
    "pycharm": {
     "name": "#%%\n"
    }
   },
   "outputs": [
    {
     "data": {
      "text/plain": [
       "0.16995460180153946"
      ]
     },
     "execution_count": 49,
     "metadata": {},
     "output_type": "execute_result"
    }
   ],
   "source": [
    "import numpy as np\n",
    "\n",
    "from processes.reserves import light_weight_reserve\n",
    "\n",
    "intensities = [{\"warm_up_intensity\": 1, \"main_intensity\": 10, \"is_main\": True},\n",
    "               {\"warm_up_intensity\": 1, \"main_intensity\": 10, \"is_main\": False},\n",
    "               {\"warm_up_intensity\": 1, \"main_intensity\": 10, \"is_main\": False},\n",
    "               {\"warm_up_intensity\": 1, \"main_intensity\": 10, \"is_main\": False},\n",
    "               {\"warm_up_intensity\": 1, \"main_intensity\": 10, \"is_main\": False}]\n",
    "light_weight_reserve(intensities)"
   ]
  },
  {
   "cell_type": "markdown",
   "metadata": {},
   "source": [
    "$$\\large{Task^1}$$\\\n",
    "$$\\large{\\lambda = (1, 1, 1, 1, 1)}$$\\\n",
    "$$\\large{\\Lambda = (10, 10, 10, 10, 10)}$$\\\n",
    "$$\\large{main = 1}$$"
   ]
  },
  {
   "cell_type": "code",
   "execution_count": 50,
   "metadata": {
    "pycharm": {
     "name": "#%%\n"
    }
   },
   "outputs": [
    {
     "data": {
      "text/plain": [
       "array([0.26094685, 0.50164408, 0.3037126 , 0.41476059, 0.43520929,\n",
       "       0.3923836 , 0.47472621, 0.4355808 , 0.35153981, 0.46331582,\n",
       "       0.40477233, 0.60598351, 0.46516202, 0.46162239, 0.40850746,\n",
       "       0.41581807, 0.45416023, 0.40660412, 0.33392554, 0.40865722])"
      ]
     },
     "execution_count": 50,
     "metadata": {},
     "output_type": "execute_result"
    }
   ],
   "source": [
    "def lln(n):\n",
    "    return np.mean(np.vectorize(lambda _: light_weight_reserve(intensities))(np.arange(1, n + 1)))\n",
    "\n",
    "\n",
    "experiments_lln = np.vectorize(lambda n: lln(n))(np.arange(1, 301))\n",
    "experiments_lln[:20]"
   ]
  },
  {
   "cell_type": "markdown",
   "metadata": {
    "pycharm": {
     "name": "#%% md\n"
    }
   },
   "source": [
    "$$\\mathbb{E}\\mathit{T_n} = \\sum_{k=1}^{n}\\frac{1}{\\Lambda + (k-1)\\lambda}$$"
   ]
  },
  {
   "cell_type": "code",
   "execution_count": 51,
   "metadata": {
    "pycharm": {
     "name": "#%%\n"
    }
   },
   "outputs": [
    {
     "name": "stdout",
     "output_type": "stream",
     "text": [
      "0.42259407259407256\n"
     ]
    }
   ],
   "source": [
    "real_mean = np.sum(np.fromfunction(lambda i: 1 / (10 + i), (5,)))\n",
    "print(real_mean)"
   ]
  },
  {
   "cell_type": "code",
   "execution_count": 52,
   "metadata": {
    "pycharm": {
     "name": "#%%\n"
    }
   },
   "outputs": [
    {
     "data": {
      "text/html": [
       "<iframe\n",
       "    scrolling=\"no\"\n",
       "    width=\"100%\"\n",
       "    height=\"545px\"\n",
       "    src=\"iframe_figures/figure_52.html\"\n",
       "    frameborder=\"0\"\n",
       "    allowfullscreen\n",
       "></iframe>\n"
      ]
     },
     "metadata": {},
     "output_type": "display_data"
    }
   ],
   "source": [
    "import plotly.io as pio\n",
    "pio.renderers.default = 'iframe' # or 'notebook' or 'colab' or 'jupyterlab'\n",
    "\n",
    "import plotly.express as px\n",
    "N = np.arange(1, 301)\n",
    "fig = px.scatter(x=N, y=experiments_lln)\n",
    "\n",
    "fig.update_layout(\n",
    "    title=r\"$\\large{\\text{Law of large numbers}}$\",\n",
    "    xaxis_title=r\"$\\Large{n}$\",\n",
    "    yaxis_title=r\"$\\Large{\\frac{S_n}{n}}$\",\n",
    ")\n",
    "fig.add_hline(y=real_mean, line_color=\"pink\")\n"
   ]
  },
  {
   "cell_type": "code",
   "execution_count": 53,
   "metadata": {
    "pycharm": {
     "name": "#%%\n"
    }
   },
   "outputs": [
    {
     "data": {
      "text/html": [
       "<iframe\n",
       "    scrolling=\"no\"\n",
       "    width=\"100%\"\n",
       "    height=\"545px\"\n",
       "    src=\"iframe_figures/figure_53.html\"\n",
       "    frameborder=\"0\"\n",
       "    allowfullscreen\n",
       "></iframe>\n"
      ]
     },
     "metadata": {},
     "output_type": "display_data"
    }
   ],
   "source": [
    "\n",
    "fig = px.scatter(x=N, y=experiments_lln, animation_frame=N, range_y=[0, 0.8],range_x=[1, 300])\n",
    "fig.update_layout(\n",
    "    title=r\"$\\large{\\text{Law of large numbers}}$\",\n",
    "    xaxis_title=r\"$\\Large{n}$\",\n",
    "    yaxis_title=r\"$\\Large{\\frac{S_n}{n}}$\",\n",
    "    yaxis = dict(\n",
    "        tickmode = 'linear',\n",
    "        tick0 = 0,\n",
    "        dtick = 0.05\n",
    "    )\n",
    ")\n",
    "sliders = [dict(\n",
    "    currentvalue=dict(prefix = r'n = ')\n",
    ")]\n",
    "\n",
    "fig.update_layout(\n",
    "    sliders=sliders\n",
    ")\n",
    "fig.add_hline(y=real_mean, line_color=\"pink\")\n",
    "\n"
   ]
  },
  {
   "cell_type": "markdown",
   "metadata": {
    "pycharm": {
     "name": "#%%\n"
    }
   },
   "source": [
    "$$\\mathbb{D}\\mathit{T_n} = \\mathbb{D}\\sum_{k=1}^{n}\\mathit{E}_{\\Lambda + (k - 1)\\lambda} = \\sum_{k=1}^{n}\\mathbb{D}\\mathit{E}_{\\Lambda + (k - 1)\\lambda} = \\sum_{k=1}^{n}\\frac{1}{(\\Lambda + (k - 1)\\lambda)^2}$$"
   ]
  },
  {
   "cell_type": "code",
   "execution_count": 54,
   "metadata": {
    "pycharm": {
     "name": "#%%\n"
    }
   },
   "outputs": [
    {
     "name": "stdout",
     "output_type": "stream",
     "text": [
      "0.03622810783400194\n"
     ]
    }
   ],
   "source": [
    "real_variance = np.sum(np.fromfunction(lambda i: 1 / (10 + i) ** 2, (5,)))\n",
    "print(real_variance)"
   ]
  },
  {
   "cell_type": "code",
   "execution_count": 55,
   "metadata": {},
   "outputs": [],
   "source": [
    "def clt(n):\n",
    "    return np.sqrt(n) * (lln(n) - real_mean) / np.sqrt(real_variance)"
   ]
  },
  {
   "cell_type": "code",
   "execution_count": 56,
   "metadata": {},
   "outputs": [
    {
     "data": {
      "text/plain": [
       "1000"
      ]
     },
     "execution_count": 56,
     "metadata": {},
     "output_type": "execute_result"
    }
   ],
   "source": [
    "experiments_clt = np.vectorize(lambda n: clt(n))(np.full((1000, ), 50))\n",
    "experiments_clt.size"
   ]
  },
  {
   "cell_type": "code",
   "execution_count": 57,
   "metadata": {},
   "outputs": [
    {
     "data": {
      "text/html": [
       "<iframe\n",
       "    scrolling=\"no\"\n",
       "    width=\"100%\"\n",
       "    height=\"545px\"\n",
       "    src=\"iframe_figures/figure_57.html\"\n",
       "    frameborder=\"0\"\n",
       "    allowfullscreen\n",
       "></iframe>\n"
      ]
     },
     "metadata": {},
     "output_type": "display_data"
    }
   ],
   "source": [
    "px.histogram(experiments_clt)"
   ]
  },
  {
   "cell_type": "code",
   "execution_count": 58,
   "metadata": {},
   "outputs": [
    {
     "data": {
      "text/html": [
       "<iframe\n",
       "    scrolling=\"no\"\n",
       "    width=\"100%\"\n",
       "    height=\"545px\"\n",
       "    src=\"iframe_figures/figure_58.html\"\n",
       "    frameborder=\"0\"\n",
       "    allowfullscreen\n",
       "></iframe>\n"
      ]
     },
     "metadata": {},
     "output_type": "display_data"
    }
   ],
   "source": [
    "import scipy.stats as sps\n",
    "\n",
    "norm_experiments = sps.norm.rvs(size=1000)\n",
    "px.histogram(norm_experiments, )\n"
   ]
  },
  {
   "cell_type": "code",
   "execution_count": 59,
   "metadata": {},
   "outputs": [],
   "source": [
    "params_of_experiment = np.mgrid[10:110:10, 1:1001][0]"
   ]
  },
  {
   "cell_type": "code",
   "execution_count": 60,
   "metadata": {},
   "outputs": [],
   "source": [
    "clt_experiments = np.vectorize(lambda n: clt(n))(params_of_experiment)"
   ]
  },
  {
   "cell_type": "code",
   "execution_count": 61,
   "metadata": {},
   "outputs": [],
   "source": [
    "clt_experiments_n = clt_experiments[:,:1000]\n",
    "norm_experiments_n = norm_experiments[:1000]"
   ]
  },
  {
   "cell_type": "code",
   "execution_count": 62,
   "metadata": {
    "scrolled": true
   },
   "outputs": [
    {
     "data": {
      "text/plain": [
       "1000"
      ]
     },
     "execution_count": 62,
     "metadata": {},
     "output_type": "execute_result"
    }
   ],
   "source": [
    "clt_experiments_n[0].size"
   ]
  },
  {
   "cell_type": "code",
   "execution_count": 63,
   "metadata": {},
   "outputs": [
    {
     "data": {
      "text/plain": [
       "1000"
      ]
     },
     "execution_count": 63,
     "metadata": {},
     "output_type": "execute_result"
    }
   ],
   "source": [
    "norm_experiments_n.size"
   ]
  },
  {
   "cell_type": "code",
   "execution_count": 64,
   "metadata": {},
   "outputs": [],
   "source": [
    "import plotly.graph_objects as go\n",
    "\n",
    "def get_histogram(data, left, right, count_bins):\n",
    "    bins, step = np.linspace(left, right, count_bins + 2, retstep=True)\n",
    "    bins_points = .5 * (bins[:-1] + bins[1:])\n",
    "    density, bins = np.histogram(data, bins=bins, density=True)\n",
    "    density /= density.sum()\n",
    "    return bins_points, density\n"
   ]
  },
  {
   "cell_type": "markdown",
   "metadata": {},
   "source": [
    "$$\\text{$A_j$ is a j bin}$$\\\n",
    "$$v_j = \\sum_{i=0}^{1000}\\mathit{I}(clt_i \\in A_j)$$\\\n",
    "$$u_j = \\sum_{i=0}^{1000}\\mathit{I}(norm_i \\in A_j)$$\\\n",
    "$$\\text{Distance between distributions}$$\\\n",
    "$$\\text{D} = \\sum_{j=0}^{39}(v_j - u_j)^2$$"
   ]
  },
  {
   "cell_type": "code",
   "execution_count": 65,
   "metadata": {
    "scrolled": true
   },
   "outputs": [
    {
     "data": {
      "text/plain": [
       "0.002367999999999997"
      ]
     },
     "execution_count": 65,
     "metadata": {},
     "output_type": "execute_result"
    }
   ],
   "source": [
    "_, norm_density = get_histogram(norm_experiments_n, -4, 4, 39)\n",
    "np.sum((get_histogram(clt_experiments_n[0], -4, 4, 39)[1] - norm_density)**2) "
   ]
  },
  {
   "cell_type": "code",
   "execution_count": 66,
   "metadata": {
    "scrolled": false
   },
   "outputs": [
    {
     "data": {
      "text/html": [
       "<iframe\n",
       "    scrolling=\"no\"\n",
       "    width=\"100%\"\n",
       "    height=\"545px\"\n",
       "    src=\"iframe_figures/figure_66.html\"\n",
       "    frameborder=\"0\"\n",
       "    allowfullscreen\n",
       "></iframe>\n"
      ]
     },
     "metadata": {},
     "output_type": "display_data"
    }
   ],
   "source": [
    "import copy\n",
    "\n",
    "layout = dict(\n",
    "    title=r\"$\\text{Central limit theorem visualization}$\",\n",
    "    barmode=\"overlay\",\n",
    "    hovermode=\"closest\",\n",
    "    updatemenus=[dict(\n",
    "    type=\"buttons\",\n",
    "    buttons=[dict(label=\"Play\", method=\"animate\",\n",
    "                  args=[None, \n",
    "                        {\"frame\": {\"duration\": 1000, \"redraw\": True},\n",
    "                         \"transition\": {\"duration\": 300, \"easing\": \"quadratic-in-out\"}\n",
    "                        }],\n",
    "                 ),\n",
    "             dict(label=\"Pause\", method=\"animate\",\n",
    "                  args=[None,\n",
    "                           {\"frame\": {\"duration\": 0, \"redraw\": False},\n",
    "                            \"mode\": \"immediate\",\n",
    "                            \"transition\": {\"duration\": 0}}],\n",
    "                         )],\n",
    "    )],\n",
    "    annotations = [dict(x=2.2, y=0.075,\n",
    "                        text=repr(\"$Distance = \" + \"{:.5f}\".format(np.sum(\n",
    "                            (get_histogram(clt_experiments_n[0], -4, 4, 39)[1] - norm_density)**2\n",
    "                        )) + \"$\"),\n",
    "                        showarrow=False,\n",
    "                        font=dict(size=14)),\n",
    "                  ]\n",
    ")\n",
    "\n",
    "frames = list()\n",
    "\n",
    "for i in range(len(clt_experiments)):\n",
    "    frame_layout = copy.deepcopy(layout)\n",
    "    layout[\"annotations\"] = [dict(x=2.2, y=0.075,\n",
    "                                  text=repr(\"$Distance = \" + \"{:.5f}\".format(np.sum(\n",
    "                                      (get_histogram(clt_experiments_n[i], -4, 4, 39)[1] - norm_density)**2\n",
    "                                  )) + \"$\"),\n",
    "                                  showarrow=False,\n",
    "                                  font=dict(size=14)),\n",
    "                            ]\n",
    "    frames.append(go.Frame(\n",
    "        data = [\n",
    "        go.Histogram(name=r\"$\\text{Standard normal distribution}$\", \n",
    "                     x=norm_experiments_n, xbins=go.histogram.XBins(size=.2), \n",
    "                     histnorm=\"probability\"),\n",
    "        go.Histogram(name=repr(\"$\\text{CLT with } n = \"+ str((i + 1) * 10) +\"$\"), \n",
    "                     x=clt_experiments_n[i], xbins=go.histogram.XBins(size=.2), \n",
    "                     histnorm=\"probability\"),\n",
    "        ],\n",
    "        layout=frame_layout\n",
    "    ))\n",
    "    \n",
    "\n",
    "fig = go.Figure(\n",
    "    data = [\n",
    "        go.Histogram(name=r\"$\\text{Standard normal distribution}$\", x=norm_experiments_n, xbins=go.histogram.XBins(size=.2), histnorm=\"probability\"),\n",
    "        go.Histogram(name=repr(\"$\\text{CLT with } n = 10$\"), x=clt_experiments_n[0], xbins=go.histogram.XBins(size=.2), histnorm=\"probability\")\n",
    "    ],\n",
    "    layout=go.Layout(layout),\n",
    "    frames=frames,\n",
    ")\n",
    "fig.update_traces(opacity=0.75)\n",
    "fig.show()"
   ]
  },
  {
   "cell_type": "markdown",
   "metadata": {},
   "source": [
    "$$\\large{Task^2}$$\\\n",
    "$$\\large{\\lambda = (1, 2, 2, 4)}$$\\\n",
    "$$\\large{\\Lambda = (5, 5, 7, 11)}$$\\\n",
    "$$\\large{main = ?}$$"
   ]
  },
  {
   "cell_type": "code",
   "execution_count": 67,
   "metadata": {},
   "outputs": [],
   "source": [
    "import copy\n"
   ]
  },
  {
   "cell_type": "code",
   "execution_count": 68,
   "metadata": {
    "scrolled": true
   },
   "outputs": [
    {
     "data": {
      "text/plain": [
       "array([[{'warm_up_intensity': 1, 'main_intensity': 5, 'is_main': True},\n",
       "        {'warm_up_intensity': 2, 'main_intensity': 5, 'is_main': False},\n",
       "        {'warm_up_intensity': 2, 'main_intensity': 7, 'is_main': False},\n",
       "        {'warm_up_intensity': 4, 'main_intensity': 11, 'is_main': False}],\n",
       "       [{'warm_up_intensity': 1, 'main_intensity': 5, 'is_main': True},\n",
       "        {'warm_up_intensity': 2, 'main_intensity': 5, 'is_main': False},\n",
       "        {'warm_up_intensity': 4, 'main_intensity': 11, 'is_main': False},\n",
       "        {'warm_up_intensity': 2, 'main_intensity': 7, 'is_main': False}],\n",
       "       [{'warm_up_intensity': 1, 'main_intensity': 5, 'is_main': True},\n",
       "        {'warm_up_intensity': 2, 'main_intensity': 7, 'is_main': False},\n",
       "        {'warm_up_intensity': 2, 'main_intensity': 5, 'is_main': False},\n",
       "        {'warm_up_intensity': 4, 'main_intensity': 11, 'is_main': False}],\n",
       "       [{'warm_up_intensity': 1, 'main_intensity': 5, 'is_main': True},\n",
       "        {'warm_up_intensity': 2, 'main_intensity': 7, 'is_main': False},\n",
       "        {'warm_up_intensity': 4, 'main_intensity': 11, 'is_main': False},\n",
       "        {'warm_up_intensity': 2, 'main_intensity': 5, 'is_main': False}],\n",
       "       [{'warm_up_intensity': 1, 'main_intensity': 5, 'is_main': True},\n",
       "        {'warm_up_intensity': 4, 'main_intensity': 11, 'is_main': False},\n",
       "        {'warm_up_intensity': 2, 'main_intensity': 5, 'is_main': False},\n",
       "        {'warm_up_intensity': 2, 'main_intensity': 7, 'is_main': False}],\n",
       "       [{'warm_up_intensity': 1, 'main_intensity': 5, 'is_main': True},\n",
       "        {'warm_up_intensity': 4, 'main_intensity': 11, 'is_main': False},\n",
       "        {'warm_up_intensity': 2, 'main_intensity': 7, 'is_main': False},\n",
       "        {'warm_up_intensity': 2, 'main_intensity': 5, 'is_main': False}],\n",
       "       [{'warm_up_intensity': 2, 'main_intensity': 5, 'is_main': True},\n",
       "        {'warm_up_intensity': 1, 'main_intensity': 5, 'is_main': False},\n",
       "        {'warm_up_intensity': 2, 'main_intensity': 7, 'is_main': False},\n",
       "        {'warm_up_intensity': 4, 'main_intensity': 11, 'is_main': False}],\n",
       "       [{'warm_up_intensity': 2, 'main_intensity': 5, 'is_main': True},\n",
       "        {'warm_up_intensity': 1, 'main_intensity': 5, 'is_main': False},\n",
       "        {'warm_up_intensity': 4, 'main_intensity': 11, 'is_main': False},\n",
       "        {'warm_up_intensity': 2, 'main_intensity': 7, 'is_main': False}],\n",
       "       [{'warm_up_intensity': 2, 'main_intensity': 5, 'is_main': True},\n",
       "        {'warm_up_intensity': 2, 'main_intensity': 7, 'is_main': False},\n",
       "        {'warm_up_intensity': 1, 'main_intensity': 5, 'is_main': False},\n",
       "        {'warm_up_intensity': 4, 'main_intensity': 11, 'is_main': False}],\n",
       "       [{'warm_up_intensity': 2, 'main_intensity': 5, 'is_main': True},\n",
       "        {'warm_up_intensity': 2, 'main_intensity': 7, 'is_main': False},\n",
       "        {'warm_up_intensity': 4, 'main_intensity': 11, 'is_main': False},\n",
       "        {'warm_up_intensity': 1, 'main_intensity': 5, 'is_main': False}],\n",
       "       [{'warm_up_intensity': 2, 'main_intensity': 5, 'is_main': True},\n",
       "        {'warm_up_intensity': 4, 'main_intensity': 11, 'is_main': False},\n",
       "        {'warm_up_intensity': 1, 'main_intensity': 5, 'is_main': False},\n",
       "        {'warm_up_intensity': 2, 'main_intensity': 7, 'is_main': False}],\n",
       "       [{'warm_up_intensity': 2, 'main_intensity': 5, 'is_main': True},\n",
       "        {'warm_up_intensity': 4, 'main_intensity': 11, 'is_main': False},\n",
       "        {'warm_up_intensity': 2, 'main_intensity': 7, 'is_main': False},\n",
       "        {'warm_up_intensity': 1, 'main_intensity': 5, 'is_main': False}],\n",
       "       [{'warm_up_intensity': 2, 'main_intensity': 7, 'is_main': True},\n",
       "        {'warm_up_intensity': 1, 'main_intensity': 5, 'is_main': False},\n",
       "        {'warm_up_intensity': 2, 'main_intensity': 5, 'is_main': False},\n",
       "        {'warm_up_intensity': 4, 'main_intensity': 11, 'is_main': False}],\n",
       "       [{'warm_up_intensity': 2, 'main_intensity': 7, 'is_main': True},\n",
       "        {'warm_up_intensity': 1, 'main_intensity': 5, 'is_main': False},\n",
       "        {'warm_up_intensity': 4, 'main_intensity': 11, 'is_main': False},\n",
       "        {'warm_up_intensity': 2, 'main_intensity': 5, 'is_main': False}],\n",
       "       [{'warm_up_intensity': 2, 'main_intensity': 7, 'is_main': True},\n",
       "        {'warm_up_intensity': 2, 'main_intensity': 5, 'is_main': False},\n",
       "        {'warm_up_intensity': 1, 'main_intensity': 5, 'is_main': False},\n",
       "        {'warm_up_intensity': 4, 'main_intensity': 11, 'is_main': False}],\n",
       "       [{'warm_up_intensity': 2, 'main_intensity': 7, 'is_main': True},\n",
       "        {'warm_up_intensity': 2, 'main_intensity': 5, 'is_main': False},\n",
       "        {'warm_up_intensity': 4, 'main_intensity': 11, 'is_main': False},\n",
       "        {'warm_up_intensity': 1, 'main_intensity': 5, 'is_main': False}],\n",
       "       [{'warm_up_intensity': 2, 'main_intensity': 7, 'is_main': True},\n",
       "        {'warm_up_intensity': 4, 'main_intensity': 11, 'is_main': False},\n",
       "        {'warm_up_intensity': 1, 'main_intensity': 5, 'is_main': False},\n",
       "        {'warm_up_intensity': 2, 'main_intensity': 5, 'is_main': False}],\n",
       "       [{'warm_up_intensity': 2, 'main_intensity': 7, 'is_main': True},\n",
       "        {'warm_up_intensity': 4, 'main_intensity': 11, 'is_main': False},\n",
       "        {'warm_up_intensity': 2, 'main_intensity': 5, 'is_main': False},\n",
       "        {'warm_up_intensity': 1, 'main_intensity': 5, 'is_main': False}],\n",
       "       [{'warm_up_intensity': 4, 'main_intensity': 11, 'is_main': True},\n",
       "        {'warm_up_intensity': 1, 'main_intensity': 5, 'is_main': False},\n",
       "        {'warm_up_intensity': 2, 'main_intensity': 5, 'is_main': False},\n",
       "        {'warm_up_intensity': 2, 'main_intensity': 7, 'is_main': False}],\n",
       "       [{'warm_up_intensity': 4, 'main_intensity': 11, 'is_main': True},\n",
       "        {'warm_up_intensity': 1, 'main_intensity': 5, 'is_main': False},\n",
       "        {'warm_up_intensity': 2, 'main_intensity': 7, 'is_main': False},\n",
       "        {'warm_up_intensity': 2, 'main_intensity': 5, 'is_main': False}],\n",
       "       [{'warm_up_intensity': 4, 'main_intensity': 11, 'is_main': True},\n",
       "        {'warm_up_intensity': 2, 'main_intensity': 5, 'is_main': False},\n",
       "        {'warm_up_intensity': 1, 'main_intensity': 5, 'is_main': False},\n",
       "        {'warm_up_intensity': 2, 'main_intensity': 7, 'is_main': False}],\n",
       "       [{'warm_up_intensity': 4, 'main_intensity': 11, 'is_main': True},\n",
       "        {'warm_up_intensity': 2, 'main_intensity': 5, 'is_main': False},\n",
       "        {'warm_up_intensity': 2, 'main_intensity': 7, 'is_main': False},\n",
       "        {'warm_up_intensity': 1, 'main_intensity': 5, 'is_main': False}],\n",
       "       [{'warm_up_intensity': 4, 'main_intensity': 11, 'is_main': True},\n",
       "        {'warm_up_intensity': 2, 'main_intensity': 7, 'is_main': False},\n",
       "        {'warm_up_intensity': 1, 'main_intensity': 5, 'is_main': False},\n",
       "        {'warm_up_intensity': 2, 'main_intensity': 5, 'is_main': False}],\n",
       "       [{'warm_up_intensity': 4, 'main_intensity': 11, 'is_main': True},\n",
       "        {'warm_up_intensity': 2, 'main_intensity': 7, 'is_main': False},\n",
       "        {'warm_up_intensity': 2, 'main_intensity': 5, 'is_main': False},\n",
       "        {'warm_up_intensity': 1, 'main_intensity': 5, 'is_main': False}]],\n",
       "      dtype=object)"
      ]
     },
     "execution_count": 68,
     "metadata": {},
     "output_type": "execute_result"
    }
   ],
   "source": [
    "from itertools import permutations\n",
    "\n",
    "\n",
    "intensities = [\n",
    "    {\"warm_up_intensity\": 1, \"main_intensity\": 5, \"is_main\": False},\n",
    "    {\"warm_up_intensity\": 2, \"main_intensity\": 5, \"is_main\": False},\n",
    "    {\"warm_up_intensity\": 2, \"main_intensity\": 7, \"is_main\": False},\n",
    "    {\"warm_up_intensity\": 4, \"main_intensity\": 11, \"is_main\": False},\n",
    "]\n",
    "\n",
    "def initialize_system(system):\n",
    "    system = copy.deepcopy(system)\n",
    "    system[0][\"is_main\"] = True\n",
    "    return system\n",
    "\n",
    "systems = np.array([initialize_system(system) for system in list(permutations(intensities, 4))])\n",
    "systems"
   ]
  },
  {
   "cell_type": "code",
   "execution_count": 69,
   "metadata": {},
   "outputs": [
    {
     "data": {
      "text/plain": [
       "array([[0.39366727, 0.26307552, 0.21627696, ..., 0.18688552, 0.20097191,\n",
       "        0.30060717],\n",
       "       [0.41413836, 0.30350028, 0.59946849, ..., 0.47584418, 0.14321217,\n",
       "        0.45008386],\n",
       "       [0.54351745, 0.29875754, 0.70904607, ..., 0.49350278, 0.7767223 ,\n",
       "        0.48441169],\n",
       "       ...,\n",
       "       [0.27115818, 0.32261303, 0.62462035, ..., 0.39949672, 0.33868257,\n",
       "        0.20038158],\n",
       "       [0.71743076, 0.33131438, 1.11005978, ..., 0.23470668, 0.36721263,\n",
       "        0.35676325],\n",
       "       [0.42859885, 0.5847194 , 0.61261541, ..., 0.81142317, 0.32061568,\n",
       "        0.75395545]])"
      ]
     },
     "execution_count": 69,
     "metadata": {},
     "output_type": "execute_result"
    }
   ],
   "source": [
    "def get_experiments_system(system, n):\n",
    "    return np.vectorize(lambda _: light_weight_reserve(system))(np.empty(n))\n",
    "\n",
    "def get_experiments_systems(systems, n):\n",
    "    return np.array([get_experiments_system(system, n) for system in systems])\n",
    "\n",
    "experiments_systems = get_experiments_systems(systems, 1000)\n",
    "experiments_systems"
   ]
  },
  {
   "cell_type": "code",
   "execution_count": 70,
   "metadata": {},
   "outputs": [
    {
     "data": {
      "text/html": [
       "<iframe\n",
       "    scrolling=\"no\"\n",
       "    width=\"100%\"\n",
       "    height=\"545px\"\n",
       "    src=\"iframe_figures/figure_70.html\"\n",
       "    frameborder=\"0\"\n",
       "    allowfullscreen\n",
       "></iframe>\n"
      ]
     },
     "metadata": {},
     "output_type": "display_data"
    }
   ],
   "source": [
    "def get_means_of_experiments(experiments, axis=1):\n",
    "    return np.mean(experiments, axis=axis)\n",
    "\n",
    "\n",
    "sample_means = get_means_of_experiments(experiments_systems)\n",
    "descriptions_systems = [repr(\"$\"+ ','.join([\"(\" + str(device[\"warm_up_intensity\"]) + ',' + str(device[\"main_intensity\"]) + \")\" for device in system]) + \"$\") \n",
    "                        for system in systems]\n",
    "\n",
    "px.scatter(x=descriptions_systems, y=sample_means, labels={'x': r'$\\text{systems}$', 'y': r'$\\text{sample means}$'})"
   ]
  },
  {
   "cell_type": "code",
   "execution_count": 71,
   "metadata": {},
   "outputs": [],
   "source": [
    "theoretical_averages = np.array([get_means_of_experiments(get_experiments_systems(systems, 100)) for _ in range(100)])"
   ]
  },
  {
   "cell_type": "code",
   "execution_count": 72,
   "metadata": {},
   "outputs": [],
   "source": [
    "averages = theoretical_averages\n"
   ]
  },
  {
   "cell_type": "code",
   "execution_count": 73,
   "metadata": {},
   "outputs": [],
   "source": [
    "theoretical_means = np.mean(theoretical_averages.T, axis=1) "
   ]
  },
  {
   "cell_type": "code",
   "execution_count": 74,
   "metadata": {},
   "outputs": [
    {
     "data": {
      "text/html": [
       "<iframe\n",
       "    scrolling=\"no\"\n",
       "    width=\"100%\"\n",
       "    height=\"545px\"\n",
       "    src=\"iframe_figures/figure_74.html\"\n",
       "    frameborder=\"0\"\n",
       "    allowfullscreen\n",
       "></iframe>\n"
      ]
     },
     "metadata": {},
     "output_type": "display_data"
    }
   ],
   "source": [
    "px.scatter(x=descriptions_systems, y=theoretical_means, labels={'x': r'$\\text{systems}$', 'y': r'$\\text{theoretical means}$'})"
   ]
  },
  {
   "cell_type": "code",
   "execution_count": 75,
   "metadata": {},
   "outputs": [
    {
     "data": {
      "text/html": [
       "<iframe\n",
       "    scrolling=\"no\"\n",
       "    width=\"100%\"\n",
       "    height=\"545px\"\n",
       "    src=\"iframe_figures/figure_75.html\"\n",
       "    frameborder=\"0\"\n",
       "    allowfullscreen\n",
       "></iframe>\n"
      ]
     },
     "metadata": {},
     "output_type": "display_data"
    }
   ],
   "source": [
    "px.ecdf(x=experiments_systems[21])"
   ]
  }
 ],
 "metadata": {
  "kernelspec": {
   "display_name": "Python 3 (ipykernel)",
   "language": "python",
   "name": "python3"
  },
  "language_info": {
   "codemirror_mode": {
    "name": "ipython",
    "version": 3
   },
   "file_extension": ".py",
   "mimetype": "text/x-python",
   "name": "python",
   "nbconvert_exporter": "python",
   "pygments_lexer": "ipython3",
   "version": "3.9.5"
  }
 },
 "nbformat": 4,
 "nbformat_minor": 1
}